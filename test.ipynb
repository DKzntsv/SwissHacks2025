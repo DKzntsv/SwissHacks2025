{
 "cells": [
  {
   "cell_type": "code",
   "execution_count": null,
   "id": "87c29ff4",
   "metadata": {},
   "outputs": [
    {
     "name": "stdout",
     "output_type": "stream",
     "text": [
      "All ZIPs extracted successfully!\n"
     ]
    }
   ],
   "source": [
    "import zipfile\n",
    "import os\n",
    "import re\n",
    "\n",
    "base_path = 'data/client_1501_1700'\n",
    "\n",
    "for file_name in os.listdir(base_path):\n",
    "    if file_name.endswith('.zip'):\n",
    "        zip_path = os.path.join(base_path, file_name)\n",
    "        folder_name = re.sub(r'\\.zip$', '', file_name)\n",
    "        extract_to = os.path.join(base_path, folder_name)\n",
    "\n",
    "        # Make sure output folder exists\n",
    "        os.makedirs(extract_to, exist_ok=True)\n",
    "\n",
    "        # Extract zip content into its own subfolder\n",
    "        with zipfile.ZipFile(zip_path, 'r') as zip_ref:\n",
    "            zip_ref.extractall(extract_to)\n",
    "        \n",
    "        os.remove(zip_path)\n",
    "\n",
    "print(\"All ZIPs extracted successfully!\")\n"
   ]
  },
  {
   "cell_type": "code",
   "execution_count": null,
   "id": "2cbf2fe7",
   "metadata": {},
   "outputs": [
    {
     "name": "stdout",
     "output_type": "stream",
     "text": [
      "Saving JSON to \n",
      "MuPDF error: argument error: not a dict (string)\n",
      "\n",
      "MuPDF error: argument error: not a dict (string)\n",
      "\n",
      "MuPDF error: argument error: not a dict (string)\n",
      "\n",
      "MuPDF error: argument error: not a dict (string)\n",
      "\n",
      "MuPDF error: argument error: not a dict (string)\n",
      "\n",
      "MuPDF error: argument error: not a dict (string)\n",
      "\n",
      "MuPDF error: argument error: not a dict (string)\n",
      "\n",
      "MuPDF error: argument error: not a dict (string)\n",
      "\n",
      "MuPDF error: argument error: not a dict (string)\n",
      "\n",
      "MuPDF error: argument error: not a dict (string)\n",
      "\n",
      "MuPDF error: argument error: not a dict (string)\n",
      "\n",
      "MuPDF error: argument error: not a dict (string)\n",
      "\n",
      "MuPDF error: argument error: not a dict (string)\n",
      "\n",
      "MuPDF error: argument error: not a dict (string)\n",
      "\n",
      "MuPDF error: argument error: not a dict (string)\n",
      "\n",
      "MuPDF error: argument error: not a dict (string)\n",
      "\n",
      "MuPDF error: argument error: not a dict (string)\n",
      "\n",
      "MuPDF error: argument error: not a dict (string)\n",
      "\n",
      "MuPDF error: argument error: not a dict (string)\n",
      "\n",
      "MuPDF error: argument error: not a dict (string)\n",
      "\n",
      "MuPDF error: argument error: not a dict (string)\n",
      "\n",
      "MuPDF error: argument error: not a dict (string)\n",
      "\n",
      "MuPDF error: argument error: not a dict (string)\n",
      "\n",
      "MuPDF error: argument error: not a dict (string)\n",
      "\n",
      "MuPDF error: argument error: not a dict (string)\n",
      "\n",
      "MuPDF error: argument error: not a dict (string)\n",
      "\n",
      "Finished loading JSONs.\n",
      "Checking if first_name exists in description text...\n",
      "Looking for first_name: 'Scholz' (from profile_docx['last_name'] (first part)) in text\n",
      "Checking if passport full name exists in description text...\n",
      "Looking for passport full name: 'SCHOLZ' (from passport_png['Surname']) in text\n",
      "DECISION: Accept - All name checks passed\n",
      "Accept\n"
     ]
    }
   ],
   "source": [
    "from api import predict, extract_jsons\n",
    "\n",
    "base_url = './data/client_1501_1700/client_1501'\n",
    "count = 0\n",
    "correctly_guessed = 0\n",
    "with open(\"./data/description.txt\", \"r\", encoding=\"utf-8\") as f:\n",
    "    txt = f.read()\n",
    "profile_docx, png_json, account_opening_pdf = extract_jsons()\n",
    "pred = predict(txt, png_json, profile_docx, account_opening_pdf)\n",
    "print(pred)\n",
    "\n",
    "count += 1\n",
    "\n",
    "correctly_guessed += pred == \"Reject\"\n",
    "\n",
    "print(f'Accuracy: {(correctly_guessed / count):.2f}')\n"
   ]
  },
  {
   "cell_type": "code",
   "execution_count": null,
   "id": "fc0c2867",
   "metadata": {},
   "outputs": [],
   "source": []
  }
 ],
 "metadata": {
  "kernelspec": {
   "display_name": "Python 3",
   "language": "python",
   "name": "python3"
  },
  "language_info": {
   "codemirror_mode": {
    "name": "ipython",
    "version": 3
   },
   "file_extension": ".py",
   "mimetype": "text/x-python",
   "name": "python",
   "nbconvert_exporter": "python",
   "pygments_lexer": "ipython3",
   "version": "3.10.0"
  }
 },
 "nbformat": 4,
 "nbformat_minor": 5
}
